{
  "nbformat": 4,
  "nbformat_minor": 0,
  "metadata": {
    "colab": {
      "name": "Etapa 2 - Coleta de Dados.ipynb",
      "provenance": [],
      "authorship_tag": "ABX9TyPjA+JNrYuX8it5JRLPV7Ho",
      "include_colab_link": true
    },
    "kernelspec": {
      "name": "python3",
      "display_name": "Python 3"
    },
    "language_info": {
      "name": "python"
    }
  },
  "cells": [
    {
      "cell_type": "markdown",
      "metadata": {
        "id": "view-in-github",
        "colab_type": "text"
      },
      "source": [
        "<a href=\"https://colab.research.google.com/github/franciscocgomes/AvaliacaoEleitoral/blob/main/Etapa_2_Coleta_de_Dados.ipynb\" target=\"_parent\"><img src=\"https://colab.research.google.com/assets/colab-badge.svg\" alt=\"Open In Colab\"/></a>"
      ]
    },
    {
      "cell_type": "markdown",
      "source": [
        "###Apresentação do Projeto\n"
      ],
      "metadata": {
        "id": "NyiqZfYfs2Zi"
      }
    },
    {
      "cell_type": "code",
      "execution_count": null,
      "metadata": {
        "id": "9AYu9F2OsNo0"
      },
      "outputs": [],
      "source": [
        ""
      ]
    }
  ]
}