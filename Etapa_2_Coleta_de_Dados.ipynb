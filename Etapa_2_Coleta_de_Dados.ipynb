{
  "nbformat": 4,
  "nbformat_minor": 0,
  "metadata": {
    "colab": {
      "name": "Etapa 2 - Coleta de Dados.ipynb",
      "provenance": [],
      "authorship_tag": "ABX9TyNKECA68QjHEfoxeNktHjjY",
      "include_colab_link": true
    },
    "kernelspec": {
      "name": "python3",
      "display_name": "Python 3"
    },
    "language_info": {
      "name": "python"
    }
  },
  "cells": [
    {
      "cell_type": "markdown",
      "metadata": {
        "id": "view-in-github",
        "colab_type": "text"
      },
      "source": [
        "<a href=\"https://colab.research.google.com/github/franciscocgomes/AvaliacaoEleitoral/blob/main/Etapa_2_Coleta_de_Dados.ipynb\" target=\"_parent\"><img src=\"https://colab.research.google.com/assets/colab-badge.svg\" alt=\"Open In Colab\"/></a>"
      ]
    },
    {
      "cell_type": "markdown",
      "source": [
        "###Apresentação do Projeto\n"
      ],
      "metadata": {
        "id": "NyiqZfYfs2Zi"
      }
    },
    {
      "cell_type": "markdown",
      "source": [
        "Instalando bibliotecas\n"
      ],
      "metadata": {
        "id": "Kwj7hcbQwaeR"
      }
    },
    {
      "cell_type": "code",
      "execution_count": 28,
      "metadata": {
        "id": "9AYu9F2OsNo0",
        "colab": {
          "base_uri": "https://localhost:8080/"
        },
        "outputId": "9a2eb509-9bc6-49c6-ef66-ef0d4c7b66ac"
      },
      "outputs": [
        {
          "output_type": "stream",
          "name": "stdout",
          "text": [
            "Looking in indexes: https://pypi.org/simple, https://us-python.pkg.dev/colab-wheels/public/simple/\n",
            "Requirement already satisfied: snscrape in /usr/local/lib/python3.7/dist-packages (0.3.4)\n",
            "Requirement already satisfied: lxml in /usr/local/lib/python3.7/dist-packages (from snscrape) (4.2.6)\n",
            "Requirement already satisfied: beautifulsoup4 in /usr/local/lib/python3.7/dist-packages (from snscrape) (4.6.3)\n",
            "Requirement already satisfied: requests[socks] in /usr/local/lib/python3.7/dist-packages (from snscrape) (2.23.0)\n",
            "Requirement already satisfied: chardet<4,>=3.0.2 in /usr/local/lib/python3.7/dist-packages (from requests[socks]->snscrape) (3.0.4)\n",
            "Requirement already satisfied: idna<3,>=2.5 in /usr/local/lib/python3.7/dist-packages (from requests[socks]->snscrape) (2.10)\n",
            "Requirement already satisfied: urllib3!=1.25.0,!=1.25.1,<1.26,>=1.21.1 in /usr/local/lib/python3.7/dist-packages (from requests[socks]->snscrape) (1.24.3)\n",
            "Requirement already satisfied: certifi>=2017.4.17 in /usr/local/lib/python3.7/dist-packages (from requests[socks]->snscrape) (2022.6.15)\n",
            "Requirement already satisfied: PySocks!=1.5.7,>=1.5.6 in /usr/local/lib/python3.7/dist-packages (from requests[socks]->snscrape) (1.7.1)\n"
          ]
        }
      ],
      "source": [
        "pip install snscrape\n"
      ]
    },
    {
      "cell_type": "markdown",
      "source": [
        "Importando bibliotecas"
      ],
      "metadata": {
        "id": "DrrO0eUP_ndQ"
      }
    },
    {
      "cell_type": "code",
      "source": [
        "import snscrape.modules.twitter as sntweeter"
      ],
      "metadata": {
        "id": "s_-HLjHQ_tox"
      },
      "execution_count": 29,
      "outputs": []
    },
    {
      "cell_type": "markdown",
      "source": [
        "Definindo o número máximo de tweets a raspar"
      ],
      "metadata": {
        "id": "xsQYmNyFAZq8"
      }
    },
    {
      "cell_type": "code",
      "source": [
        "maximo_de_tweets = 5"
      ],
      "metadata": {
        "id": "aFyxX1FCAgyV"
      },
      "execution_count": 30,
      "outputs": []
    },
    {
      "cell_type": "markdown",
      "source": [
        "###Lula"
      ],
      "metadata": {
        "id": "JUrB-sDvGpBF"
      }
    },
    {
      "cell_type": "code",
      "source": [
        "lista_de_tweets_lula = []"
      ],
      "metadata": {
        "id": "38CfQjX2BH3p"
      },
      "execution_count": 31,
      "outputs": []
    },
    {
      "cell_type": "code",
      "source": [
        "for i, tweet in enumerate(sntweeter.TwitterSearchScraper(['lula']).get_items()):\n",
        "  if i > maximo_de_tweets:\n",
        "    break\n",
        "  lista_de_tweets_lula.append([tweet.date, tweet.id, tweet.content])"
      ],
      "metadata": {
        "id": "rWtDoVyrAnPt"
      },
      "execution_count": 32,
      "outputs": []
    },
    {
      "cell_type": "code",
      "source": [
        "lista_de_tweets_lula"
      ],
      "metadata": {
        "colab": {
          "base_uri": "https://localhost:8080/"
        },
        "id": "0LJVhhukETmb",
        "outputId": "831b6f78-ae44-4867-f5f1-5681982045c8"
      },
      "execution_count": 33,
      "outputs": [
        {
          "output_type": "execute_result",
          "data": {
            "text/plain": [
              "[[datetime.datetime(2022, 7, 31, 11, 52, 30, tzinfo=datetime.timezone.utc),\n",
              "  1553710191341981698,\n",
              "  '@LulaOficial @RickTricolor13 Lula é Brasil no 1º mundo.'],\n",
              " [datetime.datetime(2022, 7, 31, 11, 52, 29, tzinfo=datetime.timezone.utc),\n",
              "  1553710187567095810,\n",
              "  '@Claudio03165029 @ThiagoResiste Lavagem celebram fez Lula, isso que ele fez com a juventude, moleza, tudo fácil, vadiagem,  aprovação automática nas escolas, o jeito é ensinar tudo de novo, começando a escrever certo essa palavra *geito* é com J.'],\n",
              " [datetime.datetime(2022, 7, 31, 11, 52, 29, tzinfo=datetime.timezone.utc),\n",
              "  1553710186677805056,\n",
              "  'Esses novos anos prometem um novo Brasil apesar de ter que eleger o “ Lula”. Só assim conseguiremos extirpar esses últimos anos de decadência e retrocesso que a Sra @JanainaDoBrasil ajudou a estabelecer #ForaBolsonaroeSuaQuadrilha https://t.co/QU0MtOvqUN'],\n",
              " [datetime.datetime(2022, 7, 31, 11, 52, 28, tzinfo=datetime.timezone.utc),\n",
              "  1553710181472763905,\n",
              "  '@LulaOficial @ricardostuckert Essa foto aí tem que passar pelo var, porque estão até produzindo aplaudiu FAKE, imagens montadas........'],\n",
              " [datetime.datetime(2022, 7, 31, 11, 52, 27, tzinfo=datetime.timezone.utc),\n",
              "  1553710179446919168,\n",
              "  '@LulaOficial @dilmabr É mito, é mito em 2022.'],\n",
              " [datetime.datetime(2022, 7, 31, 11, 52, 27, tzinfo=datetime.timezone.utc),\n",
              "  1553710175470686208,\n",
              "  '@QP37967233 O apoio ao Lula ñ importa mesmo nesse momento? Tem certeza? Ñ falei pra ngm votar ou tratar ela como amiga, só falei q se vai influenciar nos votos, então q venha.']]"
            ]
          },
          "metadata": {},
          "execution_count": 33
        }
      ]
    },
    {
      "cell_type": "markdown",
      "source": [
        "Importando bibliotecas"
      ],
      "metadata": {
        "id": "IL2-XEthGz6j"
      }
    },
    {
      "cell_type": "code",
      "source": [
        "import pandas as pd"
      ],
      "metadata": {
        "id": "140W2dBvFhR5"
      },
      "execution_count": 34,
      "outputs": []
    },
    {
      "cell_type": "markdown",
      "source": [
        "###Lula"
      ],
      "metadata": {
        "id": "UMovULu2Igcr"
      }
    },
    {
      "cell_type": "code",
      "source": [
        "tabela_tweets_Lula = pd.DataFrame(lista_de_tweets_lula, columns=(['Data_Hora', 'IDTweet', 'Tweet']))"
      ],
      "metadata": {
        "id": "kZU4AkbCHG6L"
      },
      "execution_count": 35,
      "outputs": []
    },
    {
      "cell_type": "code",
      "source": [
        "tabela_tweets_Lula.head()"
      ],
      "metadata": {
        "colab": {
          "base_uri": "https://localhost:8080/",
          "height": 206
        },
        "id": "p3nv86umIFlU",
        "outputId": "f7ce1ce0-0293-44cf-813b-a629933df8c4"
      },
      "execution_count": 36,
      "outputs": [
        {
          "output_type": "execute_result",
          "data": {
            "text/plain": [
              "                  Data_Hora              IDTweet  \\\n",
              "0 2022-07-31 11:52:30+00:00  1553710191341981698   \n",
              "1 2022-07-31 11:52:29+00:00  1553710187567095810   \n",
              "2 2022-07-31 11:52:29+00:00  1553710186677805056   \n",
              "3 2022-07-31 11:52:28+00:00  1553710181472763905   \n",
              "4 2022-07-31 11:52:27+00:00  1553710179446919168   \n",
              "\n",
              "                                               Tweet  \n",
              "0  @LulaOficial @RickTricolor13 Lula é Brasil no ...  \n",
              "1  @Claudio03165029 @ThiagoResiste Lavagem celebr...  \n",
              "2  Esses novos anos prometem um novo Brasil apesa...  \n",
              "3  @LulaOficial @ricardostuckert Essa foto aí tem...  \n",
              "4      @LulaOficial @dilmabr É mito, é mito em 2022.  "
            ],
            "text/html": [
              "\n",
              "  <div id=\"df-bdca7ed2-177f-47b5-af4d-70f9a6ca523d\">\n",
              "    <div class=\"colab-df-container\">\n",
              "      <div>\n",
              "<style scoped>\n",
              "    .dataframe tbody tr th:only-of-type {\n",
              "        vertical-align: middle;\n",
              "    }\n",
              "\n",
              "    .dataframe tbody tr th {\n",
              "        vertical-align: top;\n",
              "    }\n",
              "\n",
              "    .dataframe thead th {\n",
              "        text-align: right;\n",
              "    }\n",
              "</style>\n",
              "<table border=\"1\" class=\"dataframe\">\n",
              "  <thead>\n",
              "    <tr style=\"text-align: right;\">\n",
              "      <th></th>\n",
              "      <th>Data_Hora</th>\n",
              "      <th>IDTweet</th>\n",
              "      <th>Tweet</th>\n",
              "    </tr>\n",
              "  </thead>\n",
              "  <tbody>\n",
              "    <tr>\n",
              "      <th>0</th>\n",
              "      <td>2022-07-31 11:52:30+00:00</td>\n",
              "      <td>1553710191341981698</td>\n",
              "      <td>@LulaOficial @RickTricolor13 Lula é Brasil no ...</td>\n",
              "    </tr>\n",
              "    <tr>\n",
              "      <th>1</th>\n",
              "      <td>2022-07-31 11:52:29+00:00</td>\n",
              "      <td>1553710187567095810</td>\n",
              "      <td>@Claudio03165029 @ThiagoResiste Lavagem celebr...</td>\n",
              "    </tr>\n",
              "    <tr>\n",
              "      <th>2</th>\n",
              "      <td>2022-07-31 11:52:29+00:00</td>\n",
              "      <td>1553710186677805056</td>\n",
              "      <td>Esses novos anos prometem um novo Brasil apesa...</td>\n",
              "    </tr>\n",
              "    <tr>\n",
              "      <th>3</th>\n",
              "      <td>2022-07-31 11:52:28+00:00</td>\n",
              "      <td>1553710181472763905</td>\n",
              "      <td>@LulaOficial @ricardostuckert Essa foto aí tem...</td>\n",
              "    </tr>\n",
              "    <tr>\n",
              "      <th>4</th>\n",
              "      <td>2022-07-31 11:52:27+00:00</td>\n",
              "      <td>1553710179446919168</td>\n",
              "      <td>@LulaOficial @dilmabr É mito, é mito em 2022.</td>\n",
              "    </tr>\n",
              "  </tbody>\n",
              "</table>\n",
              "</div>\n",
              "      <button class=\"colab-df-convert\" onclick=\"convertToInteractive('df-bdca7ed2-177f-47b5-af4d-70f9a6ca523d')\"\n",
              "              title=\"Convert this dataframe to an interactive table.\"\n",
              "              style=\"display:none;\">\n",
              "        \n",
              "  <svg xmlns=\"http://www.w3.org/2000/svg\" height=\"24px\"viewBox=\"0 0 24 24\"\n",
              "       width=\"24px\">\n",
              "    <path d=\"M0 0h24v24H0V0z\" fill=\"none\"/>\n",
              "    <path d=\"M18.56 5.44l.94 2.06.94-2.06 2.06-.94-2.06-.94-.94-2.06-.94 2.06-2.06.94zm-11 1L8.5 8.5l.94-2.06 2.06-.94-2.06-.94L8.5 2.5l-.94 2.06-2.06.94zm10 10l.94 2.06.94-2.06 2.06-.94-2.06-.94-.94-2.06-.94 2.06-2.06.94z\"/><path d=\"M17.41 7.96l-1.37-1.37c-.4-.4-.92-.59-1.43-.59-.52 0-1.04.2-1.43.59L10.3 9.45l-7.72 7.72c-.78.78-.78 2.05 0 2.83L4 21.41c.39.39.9.59 1.41.59.51 0 1.02-.2 1.41-.59l7.78-7.78 2.81-2.81c.8-.78.8-2.07 0-2.86zM5.41 20L4 18.59l7.72-7.72 1.47 1.35L5.41 20z\"/>\n",
              "  </svg>\n",
              "      </button>\n",
              "      \n",
              "  <style>\n",
              "    .colab-df-container {\n",
              "      display:flex;\n",
              "      flex-wrap:wrap;\n",
              "      gap: 12px;\n",
              "    }\n",
              "\n",
              "    .colab-df-convert {\n",
              "      background-color: #E8F0FE;\n",
              "      border: none;\n",
              "      border-radius: 50%;\n",
              "      cursor: pointer;\n",
              "      display: none;\n",
              "      fill: #1967D2;\n",
              "      height: 32px;\n",
              "      padding: 0 0 0 0;\n",
              "      width: 32px;\n",
              "    }\n",
              "\n",
              "    .colab-df-convert:hover {\n",
              "      background-color: #E2EBFA;\n",
              "      box-shadow: 0px 1px 2px rgba(60, 64, 67, 0.3), 0px 1px 3px 1px rgba(60, 64, 67, 0.15);\n",
              "      fill: #174EA6;\n",
              "    }\n",
              "\n",
              "    [theme=dark] .colab-df-convert {\n",
              "      background-color: #3B4455;\n",
              "      fill: #D2E3FC;\n",
              "    }\n",
              "\n",
              "    [theme=dark] .colab-df-convert:hover {\n",
              "      background-color: #434B5C;\n",
              "      box-shadow: 0px 1px 3px 1px rgba(0, 0, 0, 0.15);\n",
              "      filter: drop-shadow(0px 1px 2px rgba(0, 0, 0, 0.3));\n",
              "      fill: #FFFFFF;\n",
              "    }\n",
              "  </style>\n",
              "\n",
              "      <script>\n",
              "        const buttonEl =\n",
              "          document.querySelector('#df-bdca7ed2-177f-47b5-af4d-70f9a6ca523d button.colab-df-convert');\n",
              "        buttonEl.style.display =\n",
              "          google.colab.kernel.accessAllowed ? 'block' : 'none';\n",
              "\n",
              "        async function convertToInteractive(key) {\n",
              "          const element = document.querySelector('#df-bdca7ed2-177f-47b5-af4d-70f9a6ca523d');\n",
              "          const dataTable =\n",
              "            await google.colab.kernel.invokeFunction('convertToInteractive',\n",
              "                                                     [key], {});\n",
              "          if (!dataTable) return;\n",
              "\n",
              "          const docLinkHtml = 'Like what you see? Visit the ' +\n",
              "            '<a target=\"_blank\" href=https://colab.research.google.com/notebooks/data_table.ipynb>data table notebook</a>'\n",
              "            + ' to learn more about interactive tables.';\n",
              "          element.innerHTML = '';\n",
              "          dataTable['output_type'] = 'display_data';\n",
              "          await google.colab.output.renderOutput(dataTable, element);\n",
              "          const docLink = document.createElement('div');\n",
              "          docLink.innerHTML = docLinkHtml;\n",
              "          element.appendChild(docLink);\n",
              "        }\n",
              "      </script>\n",
              "    </div>\n",
              "  </div>\n",
              "  "
            ]
          },
          "metadata": {},
          "execution_count": 36
        }
      ]
    },
    {
      "cell_type": "markdown",
      "source": [
        "Acrescentando a coluna Candidato"
      ],
      "metadata": {
        "id": "iVSrwAPWI03d"
      }
    },
    {
      "cell_type": "code",
      "source": [
        "tabela_tweets_Lula['Candidato'] = 'Lula'"
      ],
      "metadata": {
        "id": "1EcdMLrHIlo5"
      },
      "execution_count": 70,
      "outputs": []
    },
    {
      "cell_type": "code",
      "source": [
        "tabela_tweets_Lula.head()"
      ],
      "metadata": {
        "colab": {
          "base_uri": "https://localhost:8080/",
          "height": 250
        },
        "id": "JIrdWdvhI7lY",
        "outputId": "cc837af5-dc01-4ed1-d9d7-5919bdc86a73"
      },
      "execution_count": 71,
      "outputs": [
        {
          "output_type": "execute_result",
          "data": {
            "text/plain": [
              "                  Data_Hora              IDTweet  \\\n",
              "0 2022-07-31 12:11:15+00:00  1553714908310683648   \n",
              "1 2022-07-31 12:11:15+00:00  1553714906700062720   \n",
              "2 2022-07-31 12:11:14+00:00  1553714904426741763   \n",
              "3 2022-07-31 12:11:12+00:00  1553714897703280640   \n",
              "4 2022-07-31 12:11:12+00:00  1553714895996305408   \n",
              "\n",
              "                                               Tweet Candidato  \n",
              "0  @RivieraNathalia Bolsonaro 22 https://t.co/sc5...      Lula  \n",
              "1  @willsilvareal @jairbolsonaro Melhor não ser c...      Lula  \n",
              "2  O bolsonaro sempre foi o que os brasileiros sa...      Lula  \n",
              "3  @guilherme_amado Dúvido que cassem o registro ...      Lula  \n",
              "4  @LulaOficial @dilmabr Sua obra estava deterior...      Lula  "
            ],
            "text/html": [
              "\n",
              "  <div id=\"df-fda6fc3a-6a35-4d21-a900-cbfacd4ebd55\">\n",
              "    <div class=\"colab-df-container\">\n",
              "      <div>\n",
              "<style scoped>\n",
              "    .dataframe tbody tr th:only-of-type {\n",
              "        vertical-align: middle;\n",
              "    }\n",
              "\n",
              "    .dataframe tbody tr th {\n",
              "        vertical-align: top;\n",
              "    }\n",
              "\n",
              "    .dataframe thead th {\n",
              "        text-align: right;\n",
              "    }\n",
              "</style>\n",
              "<table border=\"1\" class=\"dataframe\">\n",
              "  <thead>\n",
              "    <tr style=\"text-align: right;\">\n",
              "      <th></th>\n",
              "      <th>Data_Hora</th>\n",
              "      <th>IDTweet</th>\n",
              "      <th>Tweet</th>\n",
              "      <th>Candidato</th>\n",
              "    </tr>\n",
              "  </thead>\n",
              "  <tbody>\n",
              "    <tr>\n",
              "      <th>0</th>\n",
              "      <td>2022-07-31 12:11:15+00:00</td>\n",
              "      <td>1553714908310683648</td>\n",
              "      <td>@RivieraNathalia Bolsonaro 22 https://t.co/sc5...</td>\n",
              "      <td>Lula</td>\n",
              "    </tr>\n",
              "    <tr>\n",
              "      <th>1</th>\n",
              "      <td>2022-07-31 12:11:15+00:00</td>\n",
              "      <td>1553714906700062720</td>\n",
              "      <td>@willsilvareal @jairbolsonaro Melhor não ser c...</td>\n",
              "      <td>Lula</td>\n",
              "    </tr>\n",
              "    <tr>\n",
              "      <th>2</th>\n",
              "      <td>2022-07-31 12:11:14+00:00</td>\n",
              "      <td>1553714904426741763</td>\n",
              "      <td>O bolsonaro sempre foi o que os brasileiros sa...</td>\n",
              "      <td>Lula</td>\n",
              "    </tr>\n",
              "    <tr>\n",
              "      <th>3</th>\n",
              "      <td>2022-07-31 12:11:12+00:00</td>\n",
              "      <td>1553714897703280640</td>\n",
              "      <td>@guilherme_amado Dúvido que cassem o registro ...</td>\n",
              "      <td>Lula</td>\n",
              "    </tr>\n",
              "    <tr>\n",
              "      <th>4</th>\n",
              "      <td>2022-07-31 12:11:12+00:00</td>\n",
              "      <td>1553714895996305408</td>\n",
              "      <td>@LulaOficial @dilmabr Sua obra estava deterior...</td>\n",
              "      <td>Lula</td>\n",
              "    </tr>\n",
              "  </tbody>\n",
              "</table>\n",
              "</div>\n",
              "      <button class=\"colab-df-convert\" onclick=\"convertToInteractive('df-fda6fc3a-6a35-4d21-a900-cbfacd4ebd55')\"\n",
              "              title=\"Convert this dataframe to an interactive table.\"\n",
              "              style=\"display:none;\">\n",
              "        \n",
              "  <svg xmlns=\"http://www.w3.org/2000/svg\" height=\"24px\"viewBox=\"0 0 24 24\"\n",
              "       width=\"24px\">\n",
              "    <path d=\"M0 0h24v24H0V0z\" fill=\"none\"/>\n",
              "    <path d=\"M18.56 5.44l.94 2.06.94-2.06 2.06-.94-2.06-.94-.94-2.06-.94 2.06-2.06.94zm-11 1L8.5 8.5l.94-2.06 2.06-.94-2.06-.94L8.5 2.5l-.94 2.06-2.06.94zm10 10l.94 2.06.94-2.06 2.06-.94-2.06-.94-.94-2.06-.94 2.06-2.06.94z\"/><path d=\"M17.41 7.96l-1.37-1.37c-.4-.4-.92-.59-1.43-.59-.52 0-1.04.2-1.43.59L10.3 9.45l-7.72 7.72c-.78.78-.78 2.05 0 2.83L4 21.41c.39.39.9.59 1.41.59.51 0 1.02-.2 1.41-.59l7.78-7.78 2.81-2.81c.8-.78.8-2.07 0-2.86zM5.41 20L4 18.59l7.72-7.72 1.47 1.35L5.41 20z\"/>\n",
              "  </svg>\n",
              "      </button>\n",
              "      \n",
              "  <style>\n",
              "    .colab-df-container {\n",
              "      display:flex;\n",
              "      flex-wrap:wrap;\n",
              "      gap: 12px;\n",
              "    }\n",
              "\n",
              "    .colab-df-convert {\n",
              "      background-color: #E8F0FE;\n",
              "      border: none;\n",
              "      border-radius: 50%;\n",
              "      cursor: pointer;\n",
              "      display: none;\n",
              "      fill: #1967D2;\n",
              "      height: 32px;\n",
              "      padding: 0 0 0 0;\n",
              "      width: 32px;\n",
              "    }\n",
              "\n",
              "    .colab-df-convert:hover {\n",
              "      background-color: #E2EBFA;\n",
              "      box-shadow: 0px 1px 2px rgba(60, 64, 67, 0.3), 0px 1px 3px 1px rgba(60, 64, 67, 0.15);\n",
              "      fill: #174EA6;\n",
              "    }\n",
              "\n",
              "    [theme=dark] .colab-df-convert {\n",
              "      background-color: #3B4455;\n",
              "      fill: #D2E3FC;\n",
              "    }\n",
              "\n",
              "    [theme=dark] .colab-df-convert:hover {\n",
              "      background-color: #434B5C;\n",
              "      box-shadow: 0px 1px 3px 1px rgba(0, 0, 0, 0.15);\n",
              "      filter: drop-shadow(0px 1px 2px rgba(0, 0, 0, 0.3));\n",
              "      fill: #FFFFFF;\n",
              "    }\n",
              "  </style>\n",
              "\n",
              "      <script>\n",
              "        const buttonEl =\n",
              "          document.querySelector('#df-fda6fc3a-6a35-4d21-a900-cbfacd4ebd55 button.colab-df-convert');\n",
              "        buttonEl.style.display =\n",
              "          google.colab.kernel.accessAllowed ? 'block' : 'none';\n",
              "\n",
              "        async function convertToInteractive(key) {\n",
              "          const element = document.querySelector('#df-fda6fc3a-6a35-4d21-a900-cbfacd4ebd55');\n",
              "          const dataTable =\n",
              "            await google.colab.kernel.invokeFunction('convertToInteractive',\n",
              "                                                     [key], {});\n",
              "          if (!dataTable) return;\n",
              "\n",
              "          const docLinkHtml = 'Like what you see? Visit the ' +\n",
              "            '<a target=\"_blank\" href=https://colab.research.google.com/notebooks/data_table.ipynb>data table notebook</a>'\n",
              "            + ' to learn more about interactive tables.';\n",
              "          element.innerHTML = '';\n",
              "          dataTable['output_type'] = 'display_data';\n",
              "          await google.colab.output.renderOutput(dataTable, element);\n",
              "          const docLink = document.createElement('div');\n",
              "          docLink.innerHTML = docLinkHtml;\n",
              "          element.appendChild(docLink);\n",
              "        }\n",
              "      </script>\n",
              "    </div>\n",
              "  </div>\n",
              "  "
            ]
          },
          "metadata": {},
          "execution_count": 71
        }
      ]
    },
    {
      "cell_type": "markdown",
      "source": [
        "###Bolsonaro"
      ],
      "metadata": {
        "id": "hRk4d-z1JEs7"
      }
    },
    {
      "cell_type": "code",
      "source": [
        "lista_de_tweets_bolsonaro = []"
      ],
      "metadata": {
        "id": "nTGdQIx3KYS8"
      },
      "execution_count": 42,
      "outputs": []
    },
    {
      "cell_type": "code",
      "source": [
        "for i, tweet in enumerate(sntweeter.TwitterSearchScraper(['bolsonaro']).get_items()):\n",
        "  if i > maximo_de_tweets:\n",
        "    break\n",
        "  lista_de_tweets_bolsonaro.append([tweet.date, tweet.id, tweet.content])"
      ],
      "metadata": {
        "id": "zJLfE2h9KfGq"
      },
      "execution_count": 43,
      "outputs": []
    },
    {
      "cell_type": "code",
      "source": [
        "lista_de_tweets_bolsonaro"
      ],
      "metadata": {
        "colab": {
          "base_uri": "https://localhost:8080/"
        },
        "id": "ndrCCleBKyhk",
        "outputId": "f84f1d14-b737-4dfa-bb48-2062610792de"
      },
      "execution_count": 44,
      "outputs": [
        {
          "output_type": "execute_result",
          "data": {
            "text/plain": [
              "[[datetime.datetime(2022, 7, 31, 12, 11, 15, tzinfo=datetime.timezone.utc),\n",
              "  1553714908310683648,\n",
              "  '@RivieraNathalia Bolsonaro 22 https://t.co/sc5VFNnV6Q'],\n",
              " [datetime.datetime(2022, 7, 31, 12, 11, 15, tzinfo=datetime.timezone.utc),\n",
              "  1553714906700062720,\n",
              "  '@willsilvareal @jairbolsonaro Melhor não ser coveiro do que agradecer a natureza que criou o vírus, pra esquerda fica atacando o Bolsonaro de genocida pra enganar o povo e voltar ao poder.'],\n",
              " [datetime.datetime(2022, 7, 31, 12, 11, 14, tzinfo=datetime.timezone.utc),\n",
              "  1553714904426741763,\n",
              "  'O bolsonaro sempre foi o que os brasileiros sabem. \\nSó fez merda nos cargos qdo vereador, deputado e agora presidente do Brasil. \\nQuem elegeu bolsonaro foi levado pela ignorância e ódio contra o partido dos Trabalhadores. A imprensa golpista colaborou né, Estadão! https://t.co/Do8AfnuKpE'],\n",
              " [datetime.datetime(2022, 7, 31, 12, 11, 12, tzinfo=datetime.timezone.utc),\n",
              "  1553714897703280640,\n",
              "  '@guilherme_amado Dúvido que cassem o registro da candidatura do Bolsonaro. Isso é a declaração de uma guerra civil no Brasil'],\n",
              " [datetime.datetime(2022, 7, 31, 12, 11, 12, tzinfo=datetime.timezone.utc),\n",
              "  1553714895996305408,\n",
              "  '@LulaOficial @dilmabr Sua obra estava deteriorada. Arrasada pelo tempo.  Obras abandonadas.\\nTudo teve que ser refeito.\\nMas o que esperar de um mentiroso?\\nBolsonaro deu água. \\nLula deu o cano.'],\n",
              " [datetime.datetime(2022, 7, 31, 12, 11, 12, tzinfo=datetime.timezone.utc),\n",
              "  1553714894838661120,\n",
              "  '@mariadorosario Bolsonaro até 2026!!!\\nKkkkkkkkkkkkk']]"
            ]
          },
          "metadata": {},
          "execution_count": 44
        }
      ]
    },
    {
      "cell_type": "code",
      "source": [
        "tabela_tweets_bolsonaro = pd.DataFrame(lista_de_tweets_bolsonaro, columns=(['Data_Hora', 'IDTweet', 'Tweet']))"
      ],
      "metadata": {
        "id": "XdNg1hSMK3u8"
      },
      "execution_count": 49,
      "outputs": []
    },
    {
      "cell_type": "code",
      "source": [
        "tabela_tweets_bolsonaro.head()"
      ],
      "metadata": {
        "colab": {
          "base_uri": "https://localhost:8080/",
          "height": 206
        },
        "id": "XYubpOLnLCQB",
        "outputId": "0c442bed-c163-4b4e-cbd5-f6b24b3a2139"
      },
      "execution_count": 50,
      "outputs": [
        {
          "output_type": "execute_result",
          "data": {
            "text/plain": [
              "                  Data_Hora              IDTweet  \\\n",
              "0 2022-07-31 12:11:15+00:00  1553714908310683648   \n",
              "1 2022-07-31 12:11:15+00:00  1553714906700062720   \n",
              "2 2022-07-31 12:11:14+00:00  1553714904426741763   \n",
              "3 2022-07-31 12:11:12+00:00  1553714897703280640   \n",
              "4 2022-07-31 12:11:12+00:00  1553714895996305408   \n",
              "\n",
              "                                               Tweet  \n",
              "0  @RivieraNathalia Bolsonaro 22 https://t.co/sc5...  \n",
              "1  @willsilvareal @jairbolsonaro Melhor não ser c...  \n",
              "2  O bolsonaro sempre foi o que os brasileiros sa...  \n",
              "3  @guilherme_amado Dúvido que cassem o registro ...  \n",
              "4  @LulaOficial @dilmabr Sua obra estava deterior...  "
            ],
            "text/html": [
              "\n",
              "  <div id=\"df-9d90be0d-d998-443a-a908-28cecd163437\">\n",
              "    <div class=\"colab-df-container\">\n",
              "      <div>\n",
              "<style scoped>\n",
              "    .dataframe tbody tr th:only-of-type {\n",
              "        vertical-align: middle;\n",
              "    }\n",
              "\n",
              "    .dataframe tbody tr th {\n",
              "        vertical-align: top;\n",
              "    }\n",
              "\n",
              "    .dataframe thead th {\n",
              "        text-align: right;\n",
              "    }\n",
              "</style>\n",
              "<table border=\"1\" class=\"dataframe\">\n",
              "  <thead>\n",
              "    <tr style=\"text-align: right;\">\n",
              "      <th></th>\n",
              "      <th>Data_Hora</th>\n",
              "      <th>IDTweet</th>\n",
              "      <th>Tweet</th>\n",
              "    </tr>\n",
              "  </thead>\n",
              "  <tbody>\n",
              "    <tr>\n",
              "      <th>0</th>\n",
              "      <td>2022-07-31 12:11:15+00:00</td>\n",
              "      <td>1553714908310683648</td>\n",
              "      <td>@RivieraNathalia Bolsonaro 22 https://t.co/sc5...</td>\n",
              "    </tr>\n",
              "    <tr>\n",
              "      <th>1</th>\n",
              "      <td>2022-07-31 12:11:15+00:00</td>\n",
              "      <td>1553714906700062720</td>\n",
              "      <td>@willsilvareal @jairbolsonaro Melhor não ser c...</td>\n",
              "    </tr>\n",
              "    <tr>\n",
              "      <th>2</th>\n",
              "      <td>2022-07-31 12:11:14+00:00</td>\n",
              "      <td>1553714904426741763</td>\n",
              "      <td>O bolsonaro sempre foi o que os brasileiros sa...</td>\n",
              "    </tr>\n",
              "    <tr>\n",
              "      <th>3</th>\n",
              "      <td>2022-07-31 12:11:12+00:00</td>\n",
              "      <td>1553714897703280640</td>\n",
              "      <td>@guilherme_amado Dúvido que cassem o registro ...</td>\n",
              "    </tr>\n",
              "    <tr>\n",
              "      <th>4</th>\n",
              "      <td>2022-07-31 12:11:12+00:00</td>\n",
              "      <td>1553714895996305408</td>\n",
              "      <td>@LulaOficial @dilmabr Sua obra estava deterior...</td>\n",
              "    </tr>\n",
              "  </tbody>\n",
              "</table>\n",
              "</div>\n",
              "      <button class=\"colab-df-convert\" onclick=\"convertToInteractive('df-9d90be0d-d998-443a-a908-28cecd163437')\"\n",
              "              title=\"Convert this dataframe to an interactive table.\"\n",
              "              style=\"display:none;\">\n",
              "        \n",
              "  <svg xmlns=\"http://www.w3.org/2000/svg\" height=\"24px\"viewBox=\"0 0 24 24\"\n",
              "       width=\"24px\">\n",
              "    <path d=\"M0 0h24v24H0V0z\" fill=\"none\"/>\n",
              "    <path d=\"M18.56 5.44l.94 2.06.94-2.06 2.06-.94-2.06-.94-.94-2.06-.94 2.06-2.06.94zm-11 1L8.5 8.5l.94-2.06 2.06-.94-2.06-.94L8.5 2.5l-.94 2.06-2.06.94zm10 10l.94 2.06.94-2.06 2.06-.94-2.06-.94-.94-2.06-.94 2.06-2.06.94z\"/><path d=\"M17.41 7.96l-1.37-1.37c-.4-.4-.92-.59-1.43-.59-.52 0-1.04.2-1.43.59L10.3 9.45l-7.72 7.72c-.78.78-.78 2.05 0 2.83L4 21.41c.39.39.9.59 1.41.59.51 0 1.02-.2 1.41-.59l7.78-7.78 2.81-2.81c.8-.78.8-2.07 0-2.86zM5.41 20L4 18.59l7.72-7.72 1.47 1.35L5.41 20z\"/>\n",
              "  </svg>\n",
              "      </button>\n",
              "      \n",
              "  <style>\n",
              "    .colab-df-container {\n",
              "      display:flex;\n",
              "      flex-wrap:wrap;\n",
              "      gap: 12px;\n",
              "    }\n",
              "\n",
              "    .colab-df-convert {\n",
              "      background-color: #E8F0FE;\n",
              "      border: none;\n",
              "      border-radius: 50%;\n",
              "      cursor: pointer;\n",
              "      display: none;\n",
              "      fill: #1967D2;\n",
              "      height: 32px;\n",
              "      padding: 0 0 0 0;\n",
              "      width: 32px;\n",
              "    }\n",
              "\n",
              "    .colab-df-convert:hover {\n",
              "      background-color: #E2EBFA;\n",
              "      box-shadow: 0px 1px 2px rgba(60, 64, 67, 0.3), 0px 1px 3px 1px rgba(60, 64, 67, 0.15);\n",
              "      fill: #174EA6;\n",
              "    }\n",
              "\n",
              "    [theme=dark] .colab-df-convert {\n",
              "      background-color: #3B4455;\n",
              "      fill: #D2E3FC;\n",
              "    }\n",
              "\n",
              "    [theme=dark] .colab-df-convert:hover {\n",
              "      background-color: #434B5C;\n",
              "      box-shadow: 0px 1px 3px 1px rgba(0, 0, 0, 0.15);\n",
              "      filter: drop-shadow(0px 1px 2px rgba(0, 0, 0, 0.3));\n",
              "      fill: #FFFFFF;\n",
              "    }\n",
              "  </style>\n",
              "\n",
              "      <script>\n",
              "        const buttonEl =\n",
              "          document.querySelector('#df-9d90be0d-d998-443a-a908-28cecd163437 button.colab-df-convert');\n",
              "        buttonEl.style.display =\n",
              "          google.colab.kernel.accessAllowed ? 'block' : 'none';\n",
              "\n",
              "        async function convertToInteractive(key) {\n",
              "          const element = document.querySelector('#df-9d90be0d-d998-443a-a908-28cecd163437');\n",
              "          const dataTable =\n",
              "            await google.colab.kernel.invokeFunction('convertToInteractive',\n",
              "                                                     [key], {});\n",
              "          if (!dataTable) return;\n",
              "\n",
              "          const docLinkHtml = 'Like what you see? Visit the ' +\n",
              "            '<a target=\"_blank\" href=https://colab.research.google.com/notebooks/data_table.ipynb>data table notebook</a>'\n",
              "            + ' to learn more about interactive tables.';\n",
              "          element.innerHTML = '';\n",
              "          dataTable['output_type'] = 'display_data';\n",
              "          await google.colab.output.renderOutput(dataTable, element);\n",
              "          const docLink = document.createElement('div');\n",
              "          docLink.innerHTML = docLinkHtml;\n",
              "          element.appendChild(docLink);\n",
              "        }\n",
              "      </script>\n",
              "    </div>\n",
              "  </div>\n",
              "  "
            ]
          },
          "metadata": {},
          "execution_count": 50
        }
      ]
    },
    {
      "cell_type": "code",
      "source": [
        "tabela_tweets_bolsonaro['Candidato'] = 'Bolsonaro'"
      ],
      "metadata": {
        "id": "cM9NvUHgLWCd"
      },
      "execution_count": 51,
      "outputs": []
    },
    {
      "cell_type": "code",
      "source": [
        "tabela_tweets_bolsonaro.head()"
      ],
      "metadata": {
        "colab": {
          "base_uri": "https://localhost:8080/",
          "height": 250
        },
        "id": "TAA0RqCuLgr3",
        "outputId": "a53beab5-bfe5-4107-c5fe-6524650f0c57"
      },
      "execution_count": 52,
      "outputs": [
        {
          "output_type": "execute_result",
          "data": {
            "text/plain": [
              "                  Data_Hora              IDTweet  \\\n",
              "0 2022-07-31 12:11:15+00:00  1553714908310683648   \n",
              "1 2022-07-31 12:11:15+00:00  1553714906700062720   \n",
              "2 2022-07-31 12:11:14+00:00  1553714904426741763   \n",
              "3 2022-07-31 12:11:12+00:00  1553714897703280640   \n",
              "4 2022-07-31 12:11:12+00:00  1553714895996305408   \n",
              "\n",
              "                                               Tweet  Candidato  \n",
              "0  @RivieraNathalia Bolsonaro 22 https://t.co/sc5...  Bolsonaro  \n",
              "1  @willsilvareal @jairbolsonaro Melhor não ser c...  Bolsonaro  \n",
              "2  O bolsonaro sempre foi o que os brasileiros sa...  Bolsonaro  \n",
              "3  @guilherme_amado Dúvido que cassem o registro ...  Bolsonaro  \n",
              "4  @LulaOficial @dilmabr Sua obra estava deterior...  Bolsonaro  "
            ],
            "text/html": [
              "\n",
              "  <div id=\"df-7270d89a-4c9f-46a8-b263-1918b4a10855\">\n",
              "    <div class=\"colab-df-container\">\n",
              "      <div>\n",
              "<style scoped>\n",
              "    .dataframe tbody tr th:only-of-type {\n",
              "        vertical-align: middle;\n",
              "    }\n",
              "\n",
              "    .dataframe tbody tr th {\n",
              "        vertical-align: top;\n",
              "    }\n",
              "\n",
              "    .dataframe thead th {\n",
              "        text-align: right;\n",
              "    }\n",
              "</style>\n",
              "<table border=\"1\" class=\"dataframe\">\n",
              "  <thead>\n",
              "    <tr style=\"text-align: right;\">\n",
              "      <th></th>\n",
              "      <th>Data_Hora</th>\n",
              "      <th>IDTweet</th>\n",
              "      <th>Tweet</th>\n",
              "      <th>Candidato</th>\n",
              "    </tr>\n",
              "  </thead>\n",
              "  <tbody>\n",
              "    <tr>\n",
              "      <th>0</th>\n",
              "      <td>2022-07-31 12:11:15+00:00</td>\n",
              "      <td>1553714908310683648</td>\n",
              "      <td>@RivieraNathalia Bolsonaro 22 https://t.co/sc5...</td>\n",
              "      <td>Bolsonaro</td>\n",
              "    </tr>\n",
              "    <tr>\n",
              "      <th>1</th>\n",
              "      <td>2022-07-31 12:11:15+00:00</td>\n",
              "      <td>1553714906700062720</td>\n",
              "      <td>@willsilvareal @jairbolsonaro Melhor não ser c...</td>\n",
              "      <td>Bolsonaro</td>\n",
              "    </tr>\n",
              "    <tr>\n",
              "      <th>2</th>\n",
              "      <td>2022-07-31 12:11:14+00:00</td>\n",
              "      <td>1553714904426741763</td>\n",
              "      <td>O bolsonaro sempre foi o que os brasileiros sa...</td>\n",
              "      <td>Bolsonaro</td>\n",
              "    </tr>\n",
              "    <tr>\n",
              "      <th>3</th>\n",
              "      <td>2022-07-31 12:11:12+00:00</td>\n",
              "      <td>1553714897703280640</td>\n",
              "      <td>@guilherme_amado Dúvido que cassem o registro ...</td>\n",
              "      <td>Bolsonaro</td>\n",
              "    </tr>\n",
              "    <tr>\n",
              "      <th>4</th>\n",
              "      <td>2022-07-31 12:11:12+00:00</td>\n",
              "      <td>1553714895996305408</td>\n",
              "      <td>@LulaOficial @dilmabr Sua obra estava deterior...</td>\n",
              "      <td>Bolsonaro</td>\n",
              "    </tr>\n",
              "  </tbody>\n",
              "</table>\n",
              "</div>\n",
              "      <button class=\"colab-df-convert\" onclick=\"convertToInteractive('df-7270d89a-4c9f-46a8-b263-1918b4a10855')\"\n",
              "              title=\"Convert this dataframe to an interactive table.\"\n",
              "              style=\"display:none;\">\n",
              "        \n",
              "  <svg xmlns=\"http://www.w3.org/2000/svg\" height=\"24px\"viewBox=\"0 0 24 24\"\n",
              "       width=\"24px\">\n",
              "    <path d=\"M0 0h24v24H0V0z\" fill=\"none\"/>\n",
              "    <path d=\"M18.56 5.44l.94 2.06.94-2.06 2.06-.94-2.06-.94-.94-2.06-.94 2.06-2.06.94zm-11 1L8.5 8.5l.94-2.06 2.06-.94-2.06-.94L8.5 2.5l-.94 2.06-2.06.94zm10 10l.94 2.06.94-2.06 2.06-.94-2.06-.94-.94-2.06-.94 2.06-2.06.94z\"/><path d=\"M17.41 7.96l-1.37-1.37c-.4-.4-.92-.59-1.43-.59-.52 0-1.04.2-1.43.59L10.3 9.45l-7.72 7.72c-.78.78-.78 2.05 0 2.83L4 21.41c.39.39.9.59 1.41.59.51 0 1.02-.2 1.41-.59l7.78-7.78 2.81-2.81c.8-.78.8-2.07 0-2.86zM5.41 20L4 18.59l7.72-7.72 1.47 1.35L5.41 20z\"/>\n",
              "  </svg>\n",
              "      </button>\n",
              "      \n",
              "  <style>\n",
              "    .colab-df-container {\n",
              "      display:flex;\n",
              "      flex-wrap:wrap;\n",
              "      gap: 12px;\n",
              "    }\n",
              "\n",
              "    .colab-df-convert {\n",
              "      background-color: #E8F0FE;\n",
              "      border: none;\n",
              "      border-radius: 50%;\n",
              "      cursor: pointer;\n",
              "      display: none;\n",
              "      fill: #1967D2;\n",
              "      height: 32px;\n",
              "      padding: 0 0 0 0;\n",
              "      width: 32px;\n",
              "    }\n",
              "\n",
              "    .colab-df-convert:hover {\n",
              "      background-color: #E2EBFA;\n",
              "      box-shadow: 0px 1px 2px rgba(60, 64, 67, 0.3), 0px 1px 3px 1px rgba(60, 64, 67, 0.15);\n",
              "      fill: #174EA6;\n",
              "    }\n",
              "\n",
              "    [theme=dark] .colab-df-convert {\n",
              "      background-color: #3B4455;\n",
              "      fill: #D2E3FC;\n",
              "    }\n",
              "\n",
              "    [theme=dark] .colab-df-convert:hover {\n",
              "      background-color: #434B5C;\n",
              "      box-shadow: 0px 1px 3px 1px rgba(0, 0, 0, 0.15);\n",
              "      filter: drop-shadow(0px 1px 2px rgba(0, 0, 0, 0.3));\n",
              "      fill: #FFFFFF;\n",
              "    }\n",
              "  </style>\n",
              "\n",
              "      <script>\n",
              "        const buttonEl =\n",
              "          document.querySelector('#df-7270d89a-4c9f-46a8-b263-1918b4a10855 button.colab-df-convert');\n",
              "        buttonEl.style.display =\n",
              "          google.colab.kernel.accessAllowed ? 'block' : 'none';\n",
              "\n",
              "        async function convertToInteractive(key) {\n",
              "          const element = document.querySelector('#df-7270d89a-4c9f-46a8-b263-1918b4a10855');\n",
              "          const dataTable =\n",
              "            await google.colab.kernel.invokeFunction('convertToInteractive',\n",
              "                                                     [key], {});\n",
              "          if (!dataTable) return;\n",
              "\n",
              "          const docLinkHtml = 'Like what you see? Visit the ' +\n",
              "            '<a target=\"_blank\" href=https://colab.research.google.com/notebooks/data_table.ipynb>data table notebook</a>'\n",
              "            + ' to learn more about interactive tables.';\n",
              "          element.innerHTML = '';\n",
              "          dataTable['output_type'] = 'display_data';\n",
              "          await google.colab.output.renderOutput(dataTable, element);\n",
              "          const docLink = document.createElement('div');\n",
              "          docLink.innerHTML = docLinkHtml;\n",
              "          element.appendChild(docLink);\n",
              "        }\n",
              "      </script>\n",
              "    </div>\n",
              "  </div>\n",
              "  "
            ]
          },
          "metadata": {},
          "execution_count": 52
        }
      ]
    },
    {
      "cell_type": "markdown",
      "source": [
        "### Ciro Gomes"
      ],
      "metadata": {
        "id": "pnbLFQtELpAd"
      }
    },
    {
      "cell_type": "code",
      "source": [
        "lista_de_tweets_ciro = []"
      ],
      "metadata": {
        "id": "ByeaF72lLuGj"
      },
      "execution_count": 53,
      "outputs": []
    },
    {
      "cell_type": "code",
      "source": [
        "for i, tweet in enumerate(sntweeter.TwitterSearchScraper(['ciro gomes']).get_items()):\n",
        "  if i > maximo_de_tweets:\n",
        "    break\n",
        "  lista_de_tweets_ciro.append([tweet.date, tweet.id, tweet.content])"
      ],
      "metadata": {
        "id": "DjrmvGxqNR5G"
      },
      "execution_count": 54,
      "outputs": []
    },
    {
      "cell_type": "code",
      "source": [
        "lista_de_tweets_ciro"
      ],
      "metadata": {
        "colab": {
          "base_uri": "https://localhost:8080/"
        },
        "id": "_gOaQsKLNkQ-",
        "outputId": "a5c6e3e2-b61c-4ffd-ef0b-40c719bdaa27"
      },
      "execution_count": 55,
      "outputs": [
        {
          "output_type": "execute_result",
          "data": {
            "text/plain": [
              "[[datetime.datetime(2022, 7, 31, 12, 23, 21, tzinfo=datetime.timezone.utc),\n",
              "  1553717955493601280,\n",
              "  '@tocantins79 @drigo_gu @BeloApo @cirogomes Senhora, você está bem?'],\n",
              " [datetime.datetime(2022, 7, 31, 12, 23, 1, tzinfo=datetime.timezone.utc),\n",
              "  1553717868390486017,\n",
              "  '@alanhrq @eltonlnunes @LaMaestrini @MarinaSilva @cirogomes Vc aceitaria o apoio do Lula e do PT, caso o Ciro fosse ao segundo turno com o Bolsonaro?'],\n",
              " [datetime.datetime(2022, 7, 31, 12, 22, 55, tzinfo=datetime.timezone.utc),\n",
              "  1553717843694419968,\n",
              "  '@AletorreB @cartacapital @cirogomes @LulaOficial Então você nega que a \"elite\" com seu poder econômico não influencia na política e na justiça? Você nega que existe voto de cabresto dentro das corporações como dentro das Lojas Havan de Luciano Hang?'],\n",
              " [datetime.datetime(2022, 7, 31, 12, 22, 54, tzinfo=datetime.timezone.utc),\n",
              "  1553717841383378944,\n",
              "  'Vez em quando o Elio Gasparzinho dá uma dentro...\\n\"Ciro Gomes pode anunciar mil vezes seu rompimento com o PT, mas a maior parte de seus 8% irão para Lula\"  https://t.co/dI4qp52fvR'],\n",
              " [datetime.datetime(2022, 7, 31, 12, 22, 40, tzinfo=datetime.timezone.utc),\n",
              "  1553717779936731136,\n",
              "  '@Bolsovaga2 @parox40 @cirogomes Não adianta ter fotinha e ser putinha do mercado financeiro.'],\n",
              " [datetime.datetime(2022, 7, 31, 12, 22, 29, tzinfo=datetime.timezone.utc),\n",
              "  1553717735980470272,\n",
              "  '@EduGaudard @AndreJanonesAdv @cirogomes Opaaaa, vou la no Facebook ver...kkkkkkkkk Bem feito!!!']]"
            ]
          },
          "metadata": {},
          "execution_count": 55
        }
      ]
    },
    {
      "cell_type": "code",
      "source": [
        "tabela_tweets_ciro = pd.DataFrame(lista_de_tweets_ciro, columns=(['Data_Hora', 'IDTweet', 'Tweet']))"
      ],
      "metadata": {
        "id": "Cgp3p7-JNsyg"
      },
      "execution_count": 58,
      "outputs": []
    },
    {
      "cell_type": "code",
      "source": [
        "tabela_tweets_ciro.head()"
      ],
      "metadata": {
        "colab": {
          "base_uri": "https://localhost:8080/",
          "height": 206
        },
        "id": "AH-k1vshN_zU",
        "outputId": "261d187e-b83d-43c2-fdc1-283de5bf8824"
      },
      "execution_count": 60,
      "outputs": [
        {
          "output_type": "execute_result",
          "data": {
            "text/plain": [
              "                  Data_Hora              IDTweet  \\\n",
              "0 2022-07-31 12:23:21+00:00  1553717955493601280   \n",
              "1 2022-07-31 12:23:01+00:00  1553717868390486017   \n",
              "2 2022-07-31 12:22:55+00:00  1553717843694419968   \n",
              "3 2022-07-31 12:22:54+00:00  1553717841383378944   \n",
              "4 2022-07-31 12:22:40+00:00  1553717779936731136   \n",
              "\n",
              "                                               Tweet  \n",
              "0  @tocantins79 @drigo_gu @BeloApo @cirogomes Sen...  \n",
              "1  @alanhrq @eltonlnunes @LaMaestrini @MarinaSilv...  \n",
              "2  @AletorreB @cartacapital @cirogomes @LulaOfici...  \n",
              "3  Vez em quando o Elio Gasparzinho dá uma dentro...  \n",
              "4  @Bolsovaga2 @parox40 @cirogomes Não adianta te...  "
            ],
            "text/html": [
              "\n",
              "  <div id=\"df-a41c48d1-c4d3-491a-80a7-51541414649b\">\n",
              "    <div class=\"colab-df-container\">\n",
              "      <div>\n",
              "<style scoped>\n",
              "    .dataframe tbody tr th:only-of-type {\n",
              "        vertical-align: middle;\n",
              "    }\n",
              "\n",
              "    .dataframe tbody tr th {\n",
              "        vertical-align: top;\n",
              "    }\n",
              "\n",
              "    .dataframe thead th {\n",
              "        text-align: right;\n",
              "    }\n",
              "</style>\n",
              "<table border=\"1\" class=\"dataframe\">\n",
              "  <thead>\n",
              "    <tr style=\"text-align: right;\">\n",
              "      <th></th>\n",
              "      <th>Data_Hora</th>\n",
              "      <th>IDTweet</th>\n",
              "      <th>Tweet</th>\n",
              "    </tr>\n",
              "  </thead>\n",
              "  <tbody>\n",
              "    <tr>\n",
              "      <th>0</th>\n",
              "      <td>2022-07-31 12:23:21+00:00</td>\n",
              "      <td>1553717955493601280</td>\n",
              "      <td>@tocantins79 @drigo_gu @BeloApo @cirogomes Sen...</td>\n",
              "    </tr>\n",
              "    <tr>\n",
              "      <th>1</th>\n",
              "      <td>2022-07-31 12:23:01+00:00</td>\n",
              "      <td>1553717868390486017</td>\n",
              "      <td>@alanhrq @eltonlnunes @LaMaestrini @MarinaSilv...</td>\n",
              "    </tr>\n",
              "    <tr>\n",
              "      <th>2</th>\n",
              "      <td>2022-07-31 12:22:55+00:00</td>\n",
              "      <td>1553717843694419968</td>\n",
              "      <td>@AletorreB @cartacapital @cirogomes @LulaOfici...</td>\n",
              "    </tr>\n",
              "    <tr>\n",
              "      <th>3</th>\n",
              "      <td>2022-07-31 12:22:54+00:00</td>\n",
              "      <td>1553717841383378944</td>\n",
              "      <td>Vez em quando o Elio Gasparzinho dá uma dentro...</td>\n",
              "    </tr>\n",
              "    <tr>\n",
              "      <th>4</th>\n",
              "      <td>2022-07-31 12:22:40+00:00</td>\n",
              "      <td>1553717779936731136</td>\n",
              "      <td>@Bolsovaga2 @parox40 @cirogomes Não adianta te...</td>\n",
              "    </tr>\n",
              "  </tbody>\n",
              "</table>\n",
              "</div>\n",
              "      <button class=\"colab-df-convert\" onclick=\"convertToInteractive('df-a41c48d1-c4d3-491a-80a7-51541414649b')\"\n",
              "              title=\"Convert this dataframe to an interactive table.\"\n",
              "              style=\"display:none;\">\n",
              "        \n",
              "  <svg xmlns=\"http://www.w3.org/2000/svg\" height=\"24px\"viewBox=\"0 0 24 24\"\n",
              "       width=\"24px\">\n",
              "    <path d=\"M0 0h24v24H0V0z\" fill=\"none\"/>\n",
              "    <path d=\"M18.56 5.44l.94 2.06.94-2.06 2.06-.94-2.06-.94-.94-2.06-.94 2.06-2.06.94zm-11 1L8.5 8.5l.94-2.06 2.06-.94-2.06-.94L8.5 2.5l-.94 2.06-2.06.94zm10 10l.94 2.06.94-2.06 2.06-.94-2.06-.94-.94-2.06-.94 2.06-2.06.94z\"/><path d=\"M17.41 7.96l-1.37-1.37c-.4-.4-.92-.59-1.43-.59-.52 0-1.04.2-1.43.59L10.3 9.45l-7.72 7.72c-.78.78-.78 2.05 0 2.83L4 21.41c.39.39.9.59 1.41.59.51 0 1.02-.2 1.41-.59l7.78-7.78 2.81-2.81c.8-.78.8-2.07 0-2.86zM5.41 20L4 18.59l7.72-7.72 1.47 1.35L5.41 20z\"/>\n",
              "  </svg>\n",
              "      </button>\n",
              "      \n",
              "  <style>\n",
              "    .colab-df-container {\n",
              "      display:flex;\n",
              "      flex-wrap:wrap;\n",
              "      gap: 12px;\n",
              "    }\n",
              "\n",
              "    .colab-df-convert {\n",
              "      background-color: #E8F0FE;\n",
              "      border: none;\n",
              "      border-radius: 50%;\n",
              "      cursor: pointer;\n",
              "      display: none;\n",
              "      fill: #1967D2;\n",
              "      height: 32px;\n",
              "      padding: 0 0 0 0;\n",
              "      width: 32px;\n",
              "    }\n",
              "\n",
              "    .colab-df-convert:hover {\n",
              "      background-color: #E2EBFA;\n",
              "      box-shadow: 0px 1px 2px rgba(60, 64, 67, 0.3), 0px 1px 3px 1px rgba(60, 64, 67, 0.15);\n",
              "      fill: #174EA6;\n",
              "    }\n",
              "\n",
              "    [theme=dark] .colab-df-convert {\n",
              "      background-color: #3B4455;\n",
              "      fill: #D2E3FC;\n",
              "    }\n",
              "\n",
              "    [theme=dark] .colab-df-convert:hover {\n",
              "      background-color: #434B5C;\n",
              "      box-shadow: 0px 1px 3px 1px rgba(0, 0, 0, 0.15);\n",
              "      filter: drop-shadow(0px 1px 2px rgba(0, 0, 0, 0.3));\n",
              "      fill: #FFFFFF;\n",
              "    }\n",
              "  </style>\n",
              "\n",
              "      <script>\n",
              "        const buttonEl =\n",
              "          document.querySelector('#df-a41c48d1-c4d3-491a-80a7-51541414649b button.colab-df-convert');\n",
              "        buttonEl.style.display =\n",
              "          google.colab.kernel.accessAllowed ? 'block' : 'none';\n",
              "\n",
              "        async function convertToInteractive(key) {\n",
              "          const element = document.querySelector('#df-a41c48d1-c4d3-491a-80a7-51541414649b');\n",
              "          const dataTable =\n",
              "            await google.colab.kernel.invokeFunction('convertToInteractive',\n",
              "                                                     [key], {});\n",
              "          if (!dataTable) return;\n",
              "\n",
              "          const docLinkHtml = 'Like what you see? Visit the ' +\n",
              "            '<a target=\"_blank\" href=https://colab.research.google.com/notebooks/data_table.ipynb>data table notebook</a>'\n",
              "            + ' to learn more about interactive tables.';\n",
              "          element.innerHTML = '';\n",
              "          dataTable['output_type'] = 'display_data';\n",
              "          await google.colab.output.renderOutput(dataTable, element);\n",
              "          const docLink = document.createElement('div');\n",
              "          docLink.innerHTML = docLinkHtml;\n",
              "          element.appendChild(docLink);\n",
              "        }\n",
              "      </script>\n",
              "    </div>\n",
              "  </div>\n",
              "  "
            ]
          },
          "metadata": {},
          "execution_count": 60
        }
      ]
    },
    {
      "cell_type": "code",
      "source": [
        "tabela_tweets_ciro['Candidato'] = 'Ciro Gomes'"
      ],
      "metadata": {
        "id": "MTRwkcO8PLjy"
      },
      "execution_count": 61,
      "outputs": []
    },
    {
      "cell_type": "code",
      "source": [
        "tabela_tweets_ciro.head()"
      ],
      "metadata": {
        "colab": {
          "base_uri": "https://localhost:8080/",
          "height": 250
        },
        "id": "NxqLl_yBPXoC",
        "outputId": "07dca25e-513f-450d-94ab-815fdf58c570"
      },
      "execution_count": 62,
      "outputs": [
        {
          "output_type": "execute_result",
          "data": {
            "text/plain": [
              "                  Data_Hora              IDTweet  \\\n",
              "0 2022-07-31 12:23:21+00:00  1553717955493601280   \n",
              "1 2022-07-31 12:23:01+00:00  1553717868390486017   \n",
              "2 2022-07-31 12:22:55+00:00  1553717843694419968   \n",
              "3 2022-07-31 12:22:54+00:00  1553717841383378944   \n",
              "4 2022-07-31 12:22:40+00:00  1553717779936731136   \n",
              "\n",
              "                                               Tweet   Candidato  \n",
              "0  @tocantins79 @drigo_gu @BeloApo @cirogomes Sen...  Ciro Gomes  \n",
              "1  @alanhrq @eltonlnunes @LaMaestrini @MarinaSilv...  Ciro Gomes  \n",
              "2  @AletorreB @cartacapital @cirogomes @LulaOfici...  Ciro Gomes  \n",
              "3  Vez em quando o Elio Gasparzinho dá uma dentro...  Ciro Gomes  \n",
              "4  @Bolsovaga2 @parox40 @cirogomes Não adianta te...  Ciro Gomes  "
            ],
            "text/html": [
              "\n",
              "  <div id=\"df-8479c9c1-3c0f-463e-be34-2b1e12b46c61\">\n",
              "    <div class=\"colab-df-container\">\n",
              "      <div>\n",
              "<style scoped>\n",
              "    .dataframe tbody tr th:only-of-type {\n",
              "        vertical-align: middle;\n",
              "    }\n",
              "\n",
              "    .dataframe tbody tr th {\n",
              "        vertical-align: top;\n",
              "    }\n",
              "\n",
              "    .dataframe thead th {\n",
              "        text-align: right;\n",
              "    }\n",
              "</style>\n",
              "<table border=\"1\" class=\"dataframe\">\n",
              "  <thead>\n",
              "    <tr style=\"text-align: right;\">\n",
              "      <th></th>\n",
              "      <th>Data_Hora</th>\n",
              "      <th>IDTweet</th>\n",
              "      <th>Tweet</th>\n",
              "      <th>Candidato</th>\n",
              "    </tr>\n",
              "  </thead>\n",
              "  <tbody>\n",
              "    <tr>\n",
              "      <th>0</th>\n",
              "      <td>2022-07-31 12:23:21+00:00</td>\n",
              "      <td>1553717955493601280</td>\n",
              "      <td>@tocantins79 @drigo_gu @BeloApo @cirogomes Sen...</td>\n",
              "      <td>Ciro Gomes</td>\n",
              "    </tr>\n",
              "    <tr>\n",
              "      <th>1</th>\n",
              "      <td>2022-07-31 12:23:01+00:00</td>\n",
              "      <td>1553717868390486017</td>\n",
              "      <td>@alanhrq @eltonlnunes @LaMaestrini @MarinaSilv...</td>\n",
              "      <td>Ciro Gomes</td>\n",
              "    </tr>\n",
              "    <tr>\n",
              "      <th>2</th>\n",
              "      <td>2022-07-31 12:22:55+00:00</td>\n",
              "      <td>1553717843694419968</td>\n",
              "      <td>@AletorreB @cartacapital @cirogomes @LulaOfici...</td>\n",
              "      <td>Ciro Gomes</td>\n",
              "    </tr>\n",
              "    <tr>\n",
              "      <th>3</th>\n",
              "      <td>2022-07-31 12:22:54+00:00</td>\n",
              "      <td>1553717841383378944</td>\n",
              "      <td>Vez em quando o Elio Gasparzinho dá uma dentro...</td>\n",
              "      <td>Ciro Gomes</td>\n",
              "    </tr>\n",
              "    <tr>\n",
              "      <th>4</th>\n",
              "      <td>2022-07-31 12:22:40+00:00</td>\n",
              "      <td>1553717779936731136</td>\n",
              "      <td>@Bolsovaga2 @parox40 @cirogomes Não adianta te...</td>\n",
              "      <td>Ciro Gomes</td>\n",
              "    </tr>\n",
              "  </tbody>\n",
              "</table>\n",
              "</div>\n",
              "      <button class=\"colab-df-convert\" onclick=\"convertToInteractive('df-8479c9c1-3c0f-463e-be34-2b1e12b46c61')\"\n",
              "              title=\"Convert this dataframe to an interactive table.\"\n",
              "              style=\"display:none;\">\n",
              "        \n",
              "  <svg xmlns=\"http://www.w3.org/2000/svg\" height=\"24px\"viewBox=\"0 0 24 24\"\n",
              "       width=\"24px\">\n",
              "    <path d=\"M0 0h24v24H0V0z\" fill=\"none\"/>\n",
              "    <path d=\"M18.56 5.44l.94 2.06.94-2.06 2.06-.94-2.06-.94-.94-2.06-.94 2.06-2.06.94zm-11 1L8.5 8.5l.94-2.06 2.06-.94-2.06-.94L8.5 2.5l-.94 2.06-2.06.94zm10 10l.94 2.06.94-2.06 2.06-.94-2.06-.94-.94-2.06-.94 2.06-2.06.94z\"/><path d=\"M17.41 7.96l-1.37-1.37c-.4-.4-.92-.59-1.43-.59-.52 0-1.04.2-1.43.59L10.3 9.45l-7.72 7.72c-.78.78-.78 2.05 0 2.83L4 21.41c.39.39.9.59 1.41.59.51 0 1.02-.2 1.41-.59l7.78-7.78 2.81-2.81c.8-.78.8-2.07 0-2.86zM5.41 20L4 18.59l7.72-7.72 1.47 1.35L5.41 20z\"/>\n",
              "  </svg>\n",
              "      </button>\n",
              "      \n",
              "  <style>\n",
              "    .colab-df-container {\n",
              "      display:flex;\n",
              "      flex-wrap:wrap;\n",
              "      gap: 12px;\n",
              "    }\n",
              "\n",
              "    .colab-df-convert {\n",
              "      background-color: #E8F0FE;\n",
              "      border: none;\n",
              "      border-radius: 50%;\n",
              "      cursor: pointer;\n",
              "      display: none;\n",
              "      fill: #1967D2;\n",
              "      height: 32px;\n",
              "      padding: 0 0 0 0;\n",
              "      width: 32px;\n",
              "    }\n",
              "\n",
              "    .colab-df-convert:hover {\n",
              "      background-color: #E2EBFA;\n",
              "      box-shadow: 0px 1px 2px rgba(60, 64, 67, 0.3), 0px 1px 3px 1px rgba(60, 64, 67, 0.15);\n",
              "      fill: #174EA6;\n",
              "    }\n",
              "\n",
              "    [theme=dark] .colab-df-convert {\n",
              "      background-color: #3B4455;\n",
              "      fill: #D2E3FC;\n",
              "    }\n",
              "\n",
              "    [theme=dark] .colab-df-convert:hover {\n",
              "      background-color: #434B5C;\n",
              "      box-shadow: 0px 1px 3px 1px rgba(0, 0, 0, 0.15);\n",
              "      filter: drop-shadow(0px 1px 2px rgba(0, 0, 0, 0.3));\n",
              "      fill: #FFFFFF;\n",
              "    }\n",
              "  </style>\n",
              "\n",
              "      <script>\n",
              "        const buttonEl =\n",
              "          document.querySelector('#df-8479c9c1-3c0f-463e-be34-2b1e12b46c61 button.colab-df-convert');\n",
              "        buttonEl.style.display =\n",
              "          google.colab.kernel.accessAllowed ? 'block' : 'none';\n",
              "\n",
              "        async function convertToInteractive(key) {\n",
              "          const element = document.querySelector('#df-8479c9c1-3c0f-463e-be34-2b1e12b46c61');\n",
              "          const dataTable =\n",
              "            await google.colab.kernel.invokeFunction('convertToInteractive',\n",
              "                                                     [key], {});\n",
              "          if (!dataTable) return;\n",
              "\n",
              "          const docLinkHtml = 'Like what you see? Visit the ' +\n",
              "            '<a target=\"_blank\" href=https://colab.research.google.com/notebooks/data_table.ipynb>data table notebook</a>'\n",
              "            + ' to learn more about interactive tables.';\n",
              "          element.innerHTML = '';\n",
              "          dataTable['output_type'] = 'display_data';\n",
              "          await google.colab.output.renderOutput(dataTable, element);\n",
              "          const docLink = document.createElement('div');\n",
              "          docLink.innerHTML = docLinkHtml;\n",
              "          element.appendChild(docLink);\n",
              "        }\n",
              "      </script>\n",
              "    </div>\n",
              "  </div>\n",
              "  "
            ]
          },
          "metadata": {},
          "execution_count": 62
        }
      ]
    },
    {
      "cell_type": "markdown",
      "source": [
        "Juntando as três tabelas"
      ],
      "metadata": {
        "id": "omMxdNS4P-Ts"
      }
    },
    {
      "cell_type": "code",
      "source": [
        "tabela_candidatos = pd.concat([tabela_tweets_Lula, tabela_tweets_bolsonaro, tabela_tweets_ciro], axis=0)"
      ],
      "metadata": {
        "id": "BTIzQDF7QCaO"
      },
      "execution_count": 75,
      "outputs": []
    },
    {
      "cell_type": "code",
      "source": [
        "tabela_candidatos.head()"
      ],
      "metadata": {
        "colab": {
          "base_uri": "https://localhost:8080/",
          "height": 250
        },
        "id": "WE7BCGE2P9Xu",
        "outputId": "7c44d5ae-2d33-4f09-fc26-f4ba5121aa62"
      },
      "execution_count": 76,
      "outputs": [
        {
          "output_type": "execute_result",
          "data": {
            "text/plain": [
              "                  Data_Hora              IDTweet  \\\n",
              "0 2022-07-31 12:11:15+00:00  1553714908310683648   \n",
              "1 2022-07-31 12:11:15+00:00  1553714906700062720   \n",
              "2 2022-07-31 12:11:14+00:00  1553714904426741763   \n",
              "3 2022-07-31 12:11:12+00:00  1553714897703280640   \n",
              "4 2022-07-31 12:11:12+00:00  1553714895996305408   \n",
              "\n",
              "                                               Tweet Candidato  \n",
              "0  @RivieraNathalia Bolsonaro 22 https://t.co/sc5...      Lula  \n",
              "1  @willsilvareal @jairbolsonaro Melhor não ser c...      Lula  \n",
              "2  O bolsonaro sempre foi o que os brasileiros sa...      Lula  \n",
              "3  @guilherme_amado Dúvido que cassem o registro ...      Lula  \n",
              "4  @LulaOficial @dilmabr Sua obra estava deterior...      Lula  "
            ],
            "text/html": [
              "\n",
              "  <div id=\"df-c9f0eca5-50f8-4e25-966c-5a5bf32a5b33\">\n",
              "    <div class=\"colab-df-container\">\n",
              "      <div>\n",
              "<style scoped>\n",
              "    .dataframe tbody tr th:only-of-type {\n",
              "        vertical-align: middle;\n",
              "    }\n",
              "\n",
              "    .dataframe tbody tr th {\n",
              "        vertical-align: top;\n",
              "    }\n",
              "\n",
              "    .dataframe thead th {\n",
              "        text-align: right;\n",
              "    }\n",
              "</style>\n",
              "<table border=\"1\" class=\"dataframe\">\n",
              "  <thead>\n",
              "    <tr style=\"text-align: right;\">\n",
              "      <th></th>\n",
              "      <th>Data_Hora</th>\n",
              "      <th>IDTweet</th>\n",
              "      <th>Tweet</th>\n",
              "      <th>Candidato</th>\n",
              "    </tr>\n",
              "  </thead>\n",
              "  <tbody>\n",
              "    <tr>\n",
              "      <th>0</th>\n",
              "      <td>2022-07-31 12:11:15+00:00</td>\n",
              "      <td>1553714908310683648</td>\n",
              "      <td>@RivieraNathalia Bolsonaro 22 https://t.co/sc5...</td>\n",
              "      <td>Lula</td>\n",
              "    </tr>\n",
              "    <tr>\n",
              "      <th>1</th>\n",
              "      <td>2022-07-31 12:11:15+00:00</td>\n",
              "      <td>1553714906700062720</td>\n",
              "      <td>@willsilvareal @jairbolsonaro Melhor não ser c...</td>\n",
              "      <td>Lula</td>\n",
              "    </tr>\n",
              "    <tr>\n",
              "      <th>2</th>\n",
              "      <td>2022-07-31 12:11:14+00:00</td>\n",
              "      <td>1553714904426741763</td>\n",
              "      <td>O bolsonaro sempre foi o que os brasileiros sa...</td>\n",
              "      <td>Lula</td>\n",
              "    </tr>\n",
              "    <tr>\n",
              "      <th>3</th>\n",
              "      <td>2022-07-31 12:11:12+00:00</td>\n",
              "      <td>1553714897703280640</td>\n",
              "      <td>@guilherme_amado Dúvido que cassem o registro ...</td>\n",
              "      <td>Lula</td>\n",
              "    </tr>\n",
              "    <tr>\n",
              "      <th>4</th>\n",
              "      <td>2022-07-31 12:11:12+00:00</td>\n",
              "      <td>1553714895996305408</td>\n",
              "      <td>@LulaOficial @dilmabr Sua obra estava deterior...</td>\n",
              "      <td>Lula</td>\n",
              "    </tr>\n",
              "  </tbody>\n",
              "</table>\n",
              "</div>\n",
              "      <button class=\"colab-df-convert\" onclick=\"convertToInteractive('df-c9f0eca5-50f8-4e25-966c-5a5bf32a5b33')\"\n",
              "              title=\"Convert this dataframe to an interactive table.\"\n",
              "              style=\"display:none;\">\n",
              "        \n",
              "  <svg xmlns=\"http://www.w3.org/2000/svg\" height=\"24px\"viewBox=\"0 0 24 24\"\n",
              "       width=\"24px\">\n",
              "    <path d=\"M0 0h24v24H0V0z\" fill=\"none\"/>\n",
              "    <path d=\"M18.56 5.44l.94 2.06.94-2.06 2.06-.94-2.06-.94-.94-2.06-.94 2.06-2.06.94zm-11 1L8.5 8.5l.94-2.06 2.06-.94-2.06-.94L8.5 2.5l-.94 2.06-2.06.94zm10 10l.94 2.06.94-2.06 2.06-.94-2.06-.94-.94-2.06-.94 2.06-2.06.94z\"/><path d=\"M17.41 7.96l-1.37-1.37c-.4-.4-.92-.59-1.43-.59-.52 0-1.04.2-1.43.59L10.3 9.45l-7.72 7.72c-.78.78-.78 2.05 0 2.83L4 21.41c.39.39.9.59 1.41.59.51 0 1.02-.2 1.41-.59l7.78-7.78 2.81-2.81c.8-.78.8-2.07 0-2.86zM5.41 20L4 18.59l7.72-7.72 1.47 1.35L5.41 20z\"/>\n",
              "  </svg>\n",
              "      </button>\n",
              "      \n",
              "  <style>\n",
              "    .colab-df-container {\n",
              "      display:flex;\n",
              "      flex-wrap:wrap;\n",
              "      gap: 12px;\n",
              "    }\n",
              "\n",
              "    .colab-df-convert {\n",
              "      background-color: #E8F0FE;\n",
              "      border: none;\n",
              "      border-radius: 50%;\n",
              "      cursor: pointer;\n",
              "      display: none;\n",
              "      fill: #1967D2;\n",
              "      height: 32px;\n",
              "      padding: 0 0 0 0;\n",
              "      width: 32px;\n",
              "    }\n",
              "\n",
              "    .colab-df-convert:hover {\n",
              "      background-color: #E2EBFA;\n",
              "      box-shadow: 0px 1px 2px rgba(60, 64, 67, 0.3), 0px 1px 3px 1px rgba(60, 64, 67, 0.15);\n",
              "      fill: #174EA6;\n",
              "    }\n",
              "\n",
              "    [theme=dark] .colab-df-convert {\n",
              "      background-color: #3B4455;\n",
              "      fill: #D2E3FC;\n",
              "    }\n",
              "\n",
              "    [theme=dark] .colab-df-convert:hover {\n",
              "      background-color: #434B5C;\n",
              "      box-shadow: 0px 1px 3px 1px rgba(0, 0, 0, 0.15);\n",
              "      filter: drop-shadow(0px 1px 2px rgba(0, 0, 0, 0.3));\n",
              "      fill: #FFFFFF;\n",
              "    }\n",
              "  </style>\n",
              "\n",
              "      <script>\n",
              "        const buttonEl =\n",
              "          document.querySelector('#df-c9f0eca5-50f8-4e25-966c-5a5bf32a5b33 button.colab-df-convert');\n",
              "        buttonEl.style.display =\n",
              "          google.colab.kernel.accessAllowed ? 'block' : 'none';\n",
              "\n",
              "        async function convertToInteractive(key) {\n",
              "          const element = document.querySelector('#df-c9f0eca5-50f8-4e25-966c-5a5bf32a5b33');\n",
              "          const dataTable =\n",
              "            await google.colab.kernel.invokeFunction('convertToInteractive',\n",
              "                                                     [key], {});\n",
              "          if (!dataTable) return;\n",
              "\n",
              "          const docLinkHtml = 'Like what you see? Visit the ' +\n",
              "            '<a target=\"_blank\" href=https://colab.research.google.com/notebooks/data_table.ipynb>data table notebook</a>'\n",
              "            + ' to learn more about interactive tables.';\n",
              "          element.innerHTML = '';\n",
              "          dataTable['output_type'] = 'display_data';\n",
              "          await google.colab.output.renderOutput(dataTable, element);\n",
              "          const docLink = document.createElement('div');\n",
              "          docLink.innerHTML = docLinkHtml;\n",
              "          element.appendChild(docLink);\n",
              "        }\n",
              "      </script>\n",
              "    </div>\n",
              "  </div>\n",
              "  "
            ]
          },
          "metadata": {},
          "execution_count": 76
        }
      ]
    },
    {
      "cell_type": "code",
      "source": [
        "tabela_candidatos['Candidato'].unique()"
      ],
      "metadata": {
        "colab": {
          "base_uri": "https://localhost:8080/"
        },
        "id": "lzvldyJcRB6e",
        "outputId": "7d3ee0a2-0735-43fa-88e8-61a5db1077f4"
      },
      "execution_count": 77,
      "outputs": [
        {
          "output_type": "execute_result",
          "data": {
            "text/plain": [
              "array(['Lula', 'Bolsonaro', 'Ciro Gomes'], dtype=object)"
            ]
          },
          "metadata": {},
          "execution_count": 77
        }
      ]
    },
    {
      "cell_type": "markdown",
      "source": [
        "Salvando como .csv"
      ],
      "metadata": {
        "id": "C-HnlpTNS39F"
      }
    },
    {
      "cell_type": "code",
      "source": [
        "tabela_candidatos.to_csv('Tabela_Candidatos_Final.csv', sep=',', index=False)"
      ],
      "metadata": {
        "id": "-TQtilt0S7No"
      },
      "execution_count": 78,
      "outputs": []
    }
  ]
}