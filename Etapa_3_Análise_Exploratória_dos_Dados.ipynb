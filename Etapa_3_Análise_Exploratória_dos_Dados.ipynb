{
  "nbformat": 4,
  "nbformat_minor": 0,
  "metadata": {
    "colab": {
      "name": "Etapa 3 - Análise Exploratória dos Dados.ipynb",
      "provenance": [],
      "authorship_tag": "ABX9TyOq/kdmCI5EjAbPOnAQj2uA",
      "include_colab_link": true
    },
    "kernelspec": {
      "name": "python3",
      "display_name": "Python 3"
    },
    "language_info": {
      "name": "python"
    }
  },
  "cells": [
    {
      "cell_type": "markdown",
      "metadata": {
        "id": "view-in-github",
        "colab_type": "text"
      },
      "source": [
        "<a href=\"https://colab.research.google.com/github/franciscocgomes/AvaliacaoEleitoral/blob/main/Etapa_3_An%C3%A1lise_Explorat%C3%B3ria_dos_Dados.ipynb\" target=\"_parent\"><img src=\"https://colab.research.google.com/assets/colab-badge.svg\" alt=\"Open In Colab\"/></a>"
      ]
    },
    {
      "cell_type": "code",
      "execution_count": null,
      "metadata": {
        "id": "TDG_imHIvrec"
      },
      "outputs": [],
      "source": [
        ""
      ]
    }
  ]
}